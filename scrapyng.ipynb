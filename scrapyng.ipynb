{
 "cells": [
  {
   "cell_type": "code",
   "execution_count": 34,
   "metadata": {},
   "outputs": [],
   "source": [
    "from selenium import webdriver\n",
    "from selenium.webdriver.common.by import By\n",
    "import json\n",
    "from selenium.webdriver.support.ui import WebDriverWait\n",
    "from selenium.webdriver.support import expected_conditions as EC\n",
    "import time"
   ]
  },
  {
   "cell_type": "code",
   "execution_count": 35,
   "metadata": {},
   "outputs": [
    {
     "name": "stderr",
     "output_type": "stream",
     "text": [
      "C:\\Users\\inaci\\AppData\\Local\\Temp\\ipykernel_39656\\1423187972.py:3: DeprecationWarning: executable_path has been deprecated, please pass in a Service object\n",
      "  driver = webdriver.Chrome(\n"
     ]
    }
   ],
   "source": [
    "options = webdriver.ChromeOptions()\n",
    "options.add_argument(\"--headless\")\n",
    "driver = webdriver.Chrome(\n",
    "        \"chromedriver_win32\\chromedriver.exe\",\n",
    "        #options=options\n",
    "        )"
   ]
  },
  {
   "cell_type": "code",
   "execution_count": 36,
   "metadata": {},
   "outputs": [],
   "source": [
    "driver.get('https://www.flashscore.com.br/')"
   ]
  },
  {
   "cell_type": "code",
   "execution_count": 37,
   "metadata": {},
   "outputs": [
    {
     "data": {
      "text/plain": [
       "84"
      ]
     },
     "execution_count": 37,
     "metadata": {},
     "output_type": "execute_result"
    }
   ],
   "source": [
    "sport = driver.find_element(By.CLASS_NAME, 'sportName')\n",
    "events = sport.find_elements(By.CLASS_NAME, 'event__match')\n",
    "len(events)"
   ]
  },
  {
   "cell_type": "code",
   "execution_count": 38,
   "metadata": {},
   "outputs": [],
   "source": [
    "IDS = list()\n",
    "for event in events:\n",
    "    ID = event.get_attribute('id')\n",
    "    ID = ID.replace('g_1_', '')\n",
    "    IDS.append(ID)"
   ]
  },
  {
   "cell_type": "code",
   "execution_count": 39,
   "metadata": {},
   "outputs": [],
   "source": [
    "with open(\"data/diario/02_12/jogos.json\",\"w\", encoding='utf-8') as jsonfile:\n",
    "    json.dump(IDS, jsonfile, ensure_ascii=False, indent=4)"
   ]
  },
  {
   "cell_type": "code",
   "execution_count": 40,
   "metadata": {},
   "outputs": [],
   "source": [
    "def gettimeGol(events):\n",
    "    gols = list()\n",
    "\n",
    "    for i in events:\n",
    "        svg = i.find_element(By.TAG_NAME, 'svg')\n",
    "        icon = svg.get_attribute(\"class\")\n",
    "        if 'soccer' in icon:\n",
    "            timeGol = i.find_element(By.CLASS_NAME, 'smv__timeBox').text\n",
    "            #timeGol = int(timeGol.replace(\"'\", \"\"))\n",
    "            gols.append(timeGol)\n",
    "\n",
    "    return gols"
   ]
  },
  {
   "cell_type": "code",
   "execution_count": null,
   "metadata": {},
   "outputs": [],
   "source": [
    "def getStats(driver):\n",
    "    \n",
    "    section =  WebDriverWait(driver, 10).until(\n",
    "    EC.presence_of_element_located((By.XPATH, '//*[@id=\"detail\"]/div[9]'))\n",
    "    )\n",
    "    section = section.text\n",
    "    \n",
    "    stats = section.split(\"\\n\")\n",
    "    statsHome = list(range(0,len(stats), 3))\n",
    "    statsAway = list(range(2, len(stats), 3))\n",
    "    categoria = list(range(1, len(stats), 3))\n",
    "\n",
    "    estatisitcas = list()\n",
    "    for i in range(len(categoria)):\n",
    "        home = statsHome[i]\n",
    "        away = statsAway[i]\n",
    "        c = categoria[i]\n",
    "        d = {'categoria': stats[c], 'home': stats[home], 'away': stats[away] }\n",
    "        estatisitcas.append(d)\n",
    "    \n",
    "    return estatisitcas"
   ]
  },
  {
   "cell_type": "code",
   "execution_count": 41,
   "metadata": {},
   "outputs": [],
   "source": [
    "def getData(driver, ID):\n",
    "\n",
    "    home = driver.find_element(By.XPATH, '//*[@id=\"detail\"]/div[5]/div[2]/div[3]/div[2]/a')\n",
    "    away = driver.find_element(By.XPATH, '//*[@id=\"detail\"]/div[5]/div[4]/div[3]/div[1]/a')\n",
    "    time = driver.find_element(By.XPATH, '//*[@id=\"detail\"]/div[5]/div[1]/div')\n",
    "    placar = driver.find_element(By.XPATH, '//*[@id=\"detail\"]/div[5]/div[3]/div/div[1]').text\n",
    "    placarHaf = driver.find_element(By.CLASS_NAME, 'smv__incidentsHeader')\n",
    "    placarHaf = placarHaf.text.split(\"\\n\")[1] \n",
    "    # try:\n",
    "    #     placarHaf = driver.find_element(By.XPATH, '//*[@id=\"detail\"]/div[9]/div/div[1]/div[2]').text\n",
    "    # except:\n",
    "    #     placarHaf = driver.find_element(By.XPATH, '//*[@id=\"detail\"]/div[10]/div/div[1]/div[2]').text\n",
    "\n",
    "\n",
    "    odds = driver.find_element(By.CLASS_NAME, 'oddsRowContent').text\n",
    "    odds = odds.split(\"\\n\")\n",
    "    oddsHome = odds[1]\n",
    "    oddsDraw = odds[3]\n",
    "    oddsAway = odds[5]\n",
    "\n",
    "    # homeGols = driver.find_elements(By.CLASS_NAME, 'smv__homeParticipant')\n",
    "    # homeGols = gettimeGol(homeGols)\n",
    "\n",
    "    # awayGols = driver.find_elements(By.CLASS_NAME, 'smv__awayParticipant')\n",
    "    # awayGols = gettimeGol(awayGols)\n",
    "    \n",
    "    allgols = driver.find_elements(By.CLASS_NAME, 'smv__participantRow')\n",
    "    allgols = gettimeGol(allgols)    \n",
    "    \n",
    "\n",
    "    d = {\n",
    "        'time': time.text,\n",
    "        'home': home.text,\n",
    "        'away': away.text,\n",
    "        'placar': placar.replace('\\n', ''),\n",
    "        \"placarHaf\": placarHaf.replace('\\n', ''),\n",
    "        # 'placarHafHome': placarHaf.split(\" - \")[0],\n",
    "        # 'placarHafAway': placarHaf.split(\" - \")[1],\n",
    "        'oddsHome': oddsHome,\n",
    "        'oddsDraw': oddsDraw,\n",
    "        'oddsAway': oddsAway,\n",
    "        # 'homeGols': homeGols,\n",
    "        # \"awayGols\": awayGols,\n",
    "        \"allgols\": allgols   \n",
    "    }\n",
    "    return d"
   ]
  },
  {
   "cell_type": "code",
   "execution_count": 52,
   "metadata": {},
   "outputs": [
    {
     "name": "stdout",
     "output_type": "stream",
     "text": [
      "Extraindo:  71\n",
      "Extraindo:  72\n",
      "Extraindo:  73\n",
      "Extraindo:  74\n",
      "Extraindo:  75\n",
      "Extraindo:  76\n",
      "Extraindo:  77\n",
      "Extraindo:  78\n",
      "Extraindo:  79\n",
      "Extraindo:  80\n",
      "Extraindo:  81\n",
      "Extraindo:  82\n",
      "Extraindo:  83\n"
     ]
    }
   ],
   "source": [
    "for ID in IDS[71:]:\n",
    "    index = IDS.index(ID)\n",
    "    print('Extraindo: ', index)\n",
    "    url = f\"https://www.flashscore.com.br/jogo/{ID}\"\n",
    "    driver.get(url)\n",
    "    time.sleep(3)\n",
    "    data = getData(driver, ID)\n",
    "\n",
    "    with open(f\"data/diario/02_12/events/{index}.json\",\"w\", encoding='utf-8') as jsonfile:\n",
    "            json.dump(data, jsonfile, ensure_ascii=False, indent=4)\n"
   ]
  },
  {
   "cell_type": "code",
   "execution_count": 21,
   "metadata": {},
   "outputs": [],
   "source": [
    "x = driver.find_element(By.CLASS_NAME, 'smv__incidentsHeader')"
   ]
  },
  {
   "cell_type": "code",
   "execution_count": 24,
   "metadata": {},
   "outputs": [
    {
     "data": {
      "text/plain": [
       "'0 - 0'"
      ]
     },
     "execution_count": 24,
     "metadata": {},
     "output_type": "execute_result"
    }
   ],
   "source": [
    "x.text.split(\"\\n\")[1]\n"
   ]
  },
  {
   "cell_type": "code",
   "execution_count": 13,
   "metadata": {},
   "outputs": [
    {
     "data": {
      "text/plain": [
       "{'time': '03.12.2022 11:00',\n",
       " 'home': 'Países Baixos',\n",
       " 'away': 'EUA',\n",
       " 'placar': '3-1',\n",
       " 'placarHaf': '2 - 0',\n",
       " 'oddsHome': '1.90',\n",
       " 'oddsDraw': '3.30',\n",
       " 'oddsAway': '4.33',\n",
       " 'allgols': [\"10'\", \"45+1'\", \"76'\", \"81'\"]}"
      ]
     },
     "execution_count": 13,
     "metadata": {},
     "output_type": "execute_result"
    }
   ],
   "source": [
    "data"
   ]
  },
  {
   "cell_type": "code",
   "execution_count": null,
   "metadata": {},
   "outputs": [],
   "source": [
    "with open(f\"out/{index}.json\",\"w\", encoding='utf-8') as jsonfile:\n",
    "            json.dump(data, jsonfile, ensure_ascii=False, indent=4)"
   ]
  },
  {
   "cell_type": "code",
   "execution_count": null,
   "metadata": {},
   "outputs": [],
   "source": [
    "def gettimeGol(events):\n",
    "    gols = list()\n",
    "\n",
    "    for i in events:\n",
    "        svg = i.find_element(By.TAG_NAME, 'svg')\n",
    "        icon = svg.get_attribute(\"class\")\n",
    "        if 'soccer' in icon:\n",
    "            timeGol = i.find_element(By.CLASS_NAME, 'smv__timeBox').text\n",
    "            #timeGol = int(timeGol.replace(\"'\", \"\"))\n",
    "            gols.append(timeGol)\n",
    "\n",
    "    return gols"
   ]
  },
  {
   "cell_type": "code",
   "execution_count": null,
   "metadata": {},
   "outputs": [],
   "source": [
    "def getData(driver):\n",
    "\n",
    "    home = driver.find_element(By.XPATH, '//*[@id=\"detail\"]/div[5]/div[2]/div[3]/div[2]/a')\n",
    "    away = driver.find_element(By.XPATH, '//*[@id=\"detail\"]/div[5]/div[4]/div[3]/div[1]/a')\n",
    "    time = driver.find_element(By.XPATH, '//*[@id=\"detail\"]/div[5]/div[1]/div')\n",
    "    placar = driver.find_element(By.XPATH, '//*[@id=\"detail\"]/div[5]/div[3]/div/div[1]').text\n",
    "\n",
    "    homeGols = driver.find_elements(By.CLASS_NAME, 'smv__homeParticipant')\n",
    "    homeGols = gettimeGol(homeGols)\n",
    "\n",
    "    awayGols = driver.find_elements(By.CLASS_NAME, 'smv__awayParticipant')\n",
    "    awayGols = gettimeGol(awayGols)\n",
    "    \n",
    "    allgols = driver.find_elements(By.CLASS_NAME, 'smv__participantRow')\n",
    "    allgols = gettimeGol(allgols)\n",
    "    \n",
    "    \n",
    "\n",
    "    d = {\n",
    "        'time': time.text,\n",
    "        'home': home.text,\n",
    "        'away': away.text,\n",
    "        'placar': placar.replace('\\n', ''),\n",
    "        'homeGols': homeGols,\n",
    "        \"awayGols\": awayGols,\n",
    "        \"allgols\": allgols       \n",
    "    }\n",
    "    return d\n"
   ]
  }
 ],
 "metadata": {
  "kernelspec": {
   "display_name": "Python 3.11.0 ('venv': venv)",
   "language": "python",
   "name": "python3"
  },
  "language_info": {
   "codemirror_mode": {
    "name": "ipython",
    "version": 3
   },
   "file_extension": ".py",
   "mimetype": "text/x-python",
   "name": "python",
   "nbconvert_exporter": "python",
   "pygments_lexer": "ipython3",
   "version": "3.11.0"
  },
  "orig_nbformat": 4,
  "vscode": {
   "interpreter": {
    "hash": "5ef889d60342fa4b1023a1a350dfcda05e010ec1519b725e8f026eaf2bcb2ac3"
   }
  }
 },
 "nbformat": 4,
 "nbformat_minor": 2
}
