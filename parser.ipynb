{
 "cells": [
  {
   "cell_type": "code",
   "execution_count": 10,
   "metadata": {},
   "outputs": [],
   "source": [
    "import json\n",
    "import pandas as pd\n",
    "from os import listdir"
   ]
  },
  {
   "cell_type": "code",
   "execution_count": 4,
   "metadata": {},
   "outputs": [],
   "source": [
    "def GolHalf(allgols):\n",
    "\n",
    "    golsHalf2 = list()\n",
    "\n",
    "    for gol in allgols:\n",
    "        if \"+\" in gol:\n",
    "            extraTime = gol.split(\"+\")\n",
    "            if extraTime[0] != \"45\":\n",
    "                g = int(extraTime[0]) + int(extraTime[1].removesuffix(\"'\"))\n",
    "                golsHalf2.append(g)\n",
    "        else:\n",
    "            g = int(gol.removesuffix(\"'\"))\n",
    "            if g > 45:\n",
    "                golsHalf2.append(g)\n",
    "    \n",
    "    return golsHalf2"
   ]
  },
  {
   "cell_type": "code",
   "execution_count": 5,
   "metadata": {},
   "outputs": [],
   "source": [
    "def getStats(stats, categoria):\n",
    "    for i in stats:\n",
    "        if i['categoria'] == categoria:\n",
    "            if \"%\" in i['home']:\n",
    "                home = int(i['home'].removesuffix(\"%\"))\n",
    "                home = home / 100\n",
    "                away = int(i['away'].removesuffix(\"%\"))\n",
    "                away = away / 100\n",
    "                return (home, away)\n",
    "            else:\n",
    "                home = int(i['home'])\n",
    "                away = int(i['away'])\n",
    "                return (home, away)\n",
    "    "
   ]
  },
  {
   "cell_type": "code",
   "execution_count": 80,
   "metadata": {},
   "outputs": [
    {
     "data": {
      "text/plain": [
       "279"
      ]
     },
     "execution_count": 80,
     "metadata": {},
     "output_type": "execute_result"
    }
   ],
   "source": [
    "c = 0\n",
    "banca = 100\n",
    "historic = list()\n",
    "for i in firstGol:\n",
    "    if i >= 10 or i == 0:\n",
    "        banca += 2\n",
    "    else:\n",
    "        banca -= 5\n",
    "        c += 1\n",
    "    if banca < 10:\n",
    "        print(banca)\n",
    "    historic.append(banca)\n",
    "banca\n",
    "\n"
   ]
  },
  {
   "cell_type": "code",
   "execution_count": 31,
   "metadata": {},
   "outputs": [],
   "source": [
    "import matplotlib.pyplot as plt"
   ]
  },
  {
   "cell_type": "code",
   "execution_count": 40,
   "metadata": {},
   "outputs": [],
   "source": [
    "files = listdir(\"data/diario/02_12/events/\")"
   ]
  },
  {
   "cell_type": "code",
   "execution_count": 42,
   "metadata": {},
   "outputs": [],
   "source": [
    "dia = list()\n",
    "hora = list()\n",
    "events = list()\n",
    "placarFull = list()\n",
    "placarHafTime = list()\n",
    "golsHalfTime = list()\n",
    "timesgol = list()\n",
    "oddsHome = list()\n",
    "oddsDraw = list()\n",
    "oddsAway = list()\n",
    "\n",
    "for file in files:\n",
    "    with open(f\"data/diario/02_12/events/{file}\",\"r\", encoding='utf-8') as jsonfile:\n",
    "        reader = jsonfile.read()\n",
    "        event = json.loads(reader)\n",
    "        dia.append(event['time'].split(\" \")[0])\n",
    "        hora.append(event['time'].split(\" \")[1])\n",
    "        e = event['home']+\" v \"+event['away']\n",
    "        events.append(e)\n",
    "        pf = event['placar']\n",
    "        placarFull.append(pf)\n",
    "        pht = event['placarHaf']\n",
    "        placarHafTime.append(pht)\n",
    "\n",
    "        oddsHome.append(event['oddsHome'])\n",
    "        oddsDraw.append(event['oddsDraw'])\n",
    "        oddsAway.append(event['oddsAway'])\n",
    "\n",
    "        allgols = event[\"allgols\"]\n",
    "        golsHalf = GolHalf(allgols)\n",
    "        golsHalfTime.append(golsHalf)\n",
    "        if len(golsHalf) == 0:\n",
    "            timegol = 100\n",
    "        else:\n",
    "            timegol = golsHalf[0]\n",
    "        timesgol.append(timegol)\n",
    "        jsonfile.close()"
   ]
  },
  {
   "cell_type": "code",
   "execution_count": 43,
   "metadata": {},
   "outputs": [],
   "source": [
    "data = {\n",
    "    \"hora\": hora,\n",
    "    \"events\" :events,\n",
    "    \"placarFull\" :placarFull,\n",
    "    \"placarHafTime\" :placarHafTime,\n",
    "    \"golsHalfTime\" :golsHalfTime,\n",
    "    \"oddsHome\": oddsHome,\n",
    "    \"oddsDraw\": oddsDraw,\n",
    "    \"oddsAway\": oddsAway,\n",
    "    \"timesgol\" : timesgol\n",
    "    \n",
    "}\n",
    "\n",
    "df = pd.DataFrame(data)"
   ]
  },
  {
   "cell_type": "code",
   "execution_count": 44,
   "metadata": {},
   "outputs": [
    {
     "data": {
      "text/html": [
       "<div>\n",
       "<style scoped>\n",
       "    .dataframe tbody tr th:only-of-type {\n",
       "        vertical-align: middle;\n",
       "    }\n",
       "\n",
       "    .dataframe tbody tr th {\n",
       "        vertical-align: top;\n",
       "    }\n",
       "\n",
       "    .dataframe thead th {\n",
       "        text-align: right;\n",
       "    }\n",
       "</style>\n",
       "<table border=\"1\" class=\"dataframe\">\n",
       "  <thead>\n",
       "    <tr style=\"text-align: right;\">\n",
       "      <th></th>\n",
       "      <th>hora</th>\n",
       "      <th>events</th>\n",
       "      <th>placarFull</th>\n",
       "      <th>placarHafTime</th>\n",
       "      <th>golsHalfTime</th>\n",
       "      <th>oddsHome</th>\n",
       "      <th>oddsDraw</th>\n",
       "      <th>oddsAway</th>\n",
       "      <th>timesgol</th>\n",
       "    </tr>\n",
       "  </thead>\n",
       "  <tbody>\n",
       "    <tr>\n",
       "      <th>0</th>\n",
       "      <td>11:00</td>\n",
       "      <td>Coreia do Sul v Portugal</td>\n",
       "      <td>2-1</td>\n",
       "      <td>1 - 1</td>\n",
       "      <td>[91]</td>\n",
       "      <td>4.00</td>\n",
       "      <td>3.75</td>\n",
       "      <td>1.85</td>\n",
       "      <td>91</td>\n",
       "    </tr>\n",
       "    <tr>\n",
       "      <th>1</th>\n",
       "      <td>11:00</td>\n",
       "      <td>Gana v Uruguai</td>\n",
       "      <td>0-2</td>\n",
       "      <td>0 - 2</td>\n",
       "      <td>[]</td>\n",
       "      <td>4.50</td>\n",
       "      <td>3.80</td>\n",
       "      <td>1.75</td>\n",
       "      <td>100</td>\n",
       "    </tr>\n",
       "    <tr>\n",
       "      <th>2</th>\n",
       "      <td>15:00</td>\n",
       "      <td>Anderlecht U23 v Genk U23</td>\n",
       "      <td>2-0</td>\n",
       "      <td>2 - 0</td>\n",
       "      <td>[]</td>\n",
       "      <td>2.10</td>\n",
       "      <td>3.75</td>\n",
       "      <td>2.87</td>\n",
       "      <td>100</td>\n",
       "    </tr>\n",
       "    <tr>\n",
       "      <th>3</th>\n",
       "      <td>15:00</td>\n",
       "      <td>St. Liege U23 v Lierse K.</td>\n",
       "      <td>2-4</td>\n",
       "      <td>1 - 3</td>\n",
       "      <td>[89, 92]</td>\n",
       "      <td>4.33</td>\n",
       "      <td>4.00</td>\n",
       "      <td>1.60</td>\n",
       "      <td>89</td>\n",
       "    </tr>\n",
       "    <tr>\n",
       "      <th>4</th>\n",
       "      <td>13:00</td>\n",
       "      <td>Doxa v Akritas Chloraka</td>\n",
       "      <td>2-0</td>\n",
       "      <td>2 - 0</td>\n",
       "      <td>[]</td>\n",
       "      <td>-</td>\n",
       "      <td>-</td>\n",
       "      <td>-</td>\n",
       "      <td>100</td>\n",
       "    </tr>\n",
       "  </tbody>\n",
       "</table>\n",
       "</div>"
      ],
      "text/plain": [
       "    hora                     events placarFull placarHafTime golsHalfTime  \\\n",
       "0  11:00   Coreia do Sul v Portugal        2-1         1 - 1         [91]   \n",
       "1  11:00             Gana v Uruguai        0-2         0 - 2           []   \n",
       "2  15:00  Anderlecht U23 v Genk U23        2-0         2 - 0           []   \n",
       "3  15:00  St. Liege U23 v Lierse K.        2-4         1 - 3     [89, 92]   \n",
       "4  13:00    Doxa v Akritas Chloraka        2-0         2 - 0           []   \n",
       "\n",
       "  oddsHome oddsDraw oddsAway  timesgol  \n",
       "0     4.00     3.75     1.85        91  \n",
       "1     4.50     3.80     1.75       100  \n",
       "2     2.10     3.75     2.87       100  \n",
       "3     4.33     4.00     1.60        89  \n",
       "4        -        -        -       100  "
      ]
     },
     "execution_count": 44,
     "metadata": {},
     "output_type": "execute_result"
    }
   ],
   "source": [
    "df.head()"
   ]
  },
  {
   "cell_type": "code",
   "execution_count": 45,
   "metadata": {},
   "outputs": [],
   "source": [
    "df.to_csv(\"data/diario/02_12/df.csv\", index=False)\n"
   ]
  },
  {
   "cell_type": "code",
   "execution_count": 49,
   "metadata": {},
   "outputs": [
    {
     "data": {
      "text/plain": [
       "-37"
      ]
     },
     "execution_count": 49,
     "metadata": {},
     "output_type": "execute_result"
    }
   ],
   "source": [
    "c = 0\n",
    "banca = 10\n",
    "historic = list()\n",
    "for i in df.timesgol:\n",
    "    if i > 55:\n",
    "        banca += 2\n",
    "        c += 1\n",
    "    else:\n",
    "        banca -= 5\n",
    "    historic.append(banca)\n",
    "    \n",
    "banca"
   ]
  },
  {
   "cell_type": "code",
   "execution_count": 50,
   "metadata": {},
   "outputs": [
    {
     "data": {
      "text/plain": [
       "-37"
      ]
     },
     "execution_count": 50,
     "metadata": {},
     "output_type": "execute_result"
    },
    {
     "data": {
      "image/png": "[encoded data removed]",
      "text/plain": [
       "<Figure size 640x480 with 1 Axes>"
      ]
     },
     "metadata": {},
     "output_type": "display_data"
    }
   ],
   "source": [
    "plt.plot(list(range(len(historic))), historic )\n",
    "plt.title('Dia 02/12')\n",
    "banca"
   ]
  },
  {
   "cell_type": "code",
   "execution_count": 39,
   "metadata": {},
   "outputs": [
    {
     "data": {
      "text/plain": [
       "30"
      ]
     },
     "execution_count": 39,
     "metadata": {},
     "output_type": "execute_result"
    },
    {
     "data": {
      "image/png": "[encoded data removed]",
      "text/plain": [
       "<Figure size 640x480 with 1 Axes>"
      ]
     },
     "metadata": {},
     "output_type": "display_data"
    }
   ],
   "source": [
    "plt.plot(list(range(len(historic))), historic )\n",
    "plt.title('Dia 03/12')\n",
    "banca"
   ]
  }
 ],
 "metadata": {
  "kernelspec": {
   "display_name": "Python 3.11.0 ('venv': venv)",
   "language": "python",
   "name": "python3"
  },
  "language_info": {
   "codemirror_mode": {
    "name": "ipython",
    "version": 3
   },
   "file_extension": ".py",
   "mimetype": "text/x-python",
   "name": "python",
   "nbconvert_exporter": "python",
   "pygments_lexer": "ipython3",
   "version": "3.11.0"
  },
  "orig_nbformat": 4,
  "vscode": {
   "interpreter": {
    "hash": "5ef889d60342fa4b1023a1a350dfcda05e010ec1519b725e8f026eaf2bcb2ac3"
   }
  }
 },
 "nbformat": 4,
 "nbformat_minor": 2
}
